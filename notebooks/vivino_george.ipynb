{
 "cells": [
  {
   "cell_type": "code",
   "execution_count": 11,
   "metadata": {},
   "outputs": [],
   "source": [
    "import sqlite3\n",
    "import csv\n",
    "\n",
    "# Connect to DB\n",
    "connexion = sqlite3.connect(\"../data/db/vivino.db\")\n",
    "cursor = connexion.cursor()"
   ]
  },
  {
   "cell_type": "code",
   "execution_count": 12,
   "metadata": {},
   "outputs": [],
   "source": [
    "# cursor.execute(\"\"\"\n",
    "#    SELECT\n",
    "        \n",
    "#    FROM\n",
    "    \n",
    "#    WHERE\n",
    "               \n",
    "#    GROUP BY\n",
    "               \n",
    "#    HAVING\n",
    "               \n",
    "#    ORDER BY\n",
    "        \n",
    "#    LIMIT ;\n",
    "#\"\"\")\n",
    "# cursor.fetchall()\n"
   ]
  },
  {
   "cell_type": "markdown",
   "metadata": {},
   "source": [
    "## 2. We have a marketing budget. Which countries should we prioritise, and why?\n",
    "\n",
    "- countries\n",
    "  - name\n",
    "  - regions_count\n",
    "  - users_count\n",
    "  - wines_count\n",
    "  - wineries_count\n",
    "  - population"
   ]
  },
  {
   "cell_type": "code",
   "execution_count": 13,
   "metadata": {},
   "outputs": [
    {
     "data": {
      "text/plain": [
       "[('États-Unis', 12273684, 339996564),\n",
       " ('France', 5973301, 64756584),\n",
       " ('Italie', 4270717, 58870763),\n",
       " ('Allemagne', 2549989, 83294633),\n",
       " ('Espagne', 2264396, 47519628),\n",
       " ('Suisse', 1601799, 8796669),\n",
       " ('Portugal', 1123535, 10247605),\n",
       " ('Australie', 1022965, 26439112),\n",
       " ('Argentine', 629532, 45773884),\n",
       " ('Chili', 326757, 19629590)]"
      ]
     },
     "metadata": {},
     "output_type": "display_data"
    }
   ],
   "source": [
    "# Number of users by country top 10\n",
    "\n",
    "top_10_filter = \"\"\"\n",
    "SELECT\n",
    "    name AS country_name,\n",
    "    users_count AS number_of_users,\n",
    "    population AS population\n",
    "FROM\n",
    "    countries\n",
    "ORDER BY\n",
    "    countries.users_count DESC\n",
    "LIMIT\n",
    "    10;\n",
    "\"\"\"\n",
    "\n",
    "cursor.execute(top_10_filter)\n",
    "top_10_filter = cursor.fetchall()\n",
    "display(top_10_filter)\n",
    "\n",
    "csv_filename = '../data/csv_tableau/top_ten_user.csv'\n",
    "\n",
    "with open(csv_filename, 'w', newline='') as csv_file:\n",
    "    csv_writer = csv.writer(csv_file)\n",
    "    column_names = [description[0] for description in cursor.description]\n",
    "    csv_writer.writerow(column_names)\n",
    "    csv_writer.writerows(top_10_filter)\n"
   ]
  },
  {
   "cell_type": "code",
   "execution_count": 14,
   "metadata": {},
   "outputs": [
    {
     "name": "stdout",
     "output_type": "stream",
     "text": [
      "Percentage of population using Vivino:\n",
      "\n",
      "Afrique du Sud: 0.45%\n",
      "Moldavie: 0.4%\n",
      "Grèce: 0.21%\n",
      "Hongrie: 1.01%\n",
      "Argentine: 1.38%\n",
      "Roumanie: 1.15%\n",
      "Chili: 1.66%\n",
      "Israël: 1.64%\n",
      "Croatie: 1.6%\n",
      "Allemagne: 3.06%\n"
     ]
    }
   ],
   "source": [
    "# Proportion of populatuon as users top_10\n",
    "population_proportion = \"\"\"\n",
    "SELECT\n",
    "    countries.name,\n",
    "    round((CAST(countries.users_count AS FLOAT)/CAST(countries.population AS FLOAT)*100),2) AS population_proportion\n",
    "FROM\n",
    "    countries\n",
    "ORDER BY\n",
    "    round(CAST(countries.users_count AS FLOAT)/CAST(countries.population AS FLOAT),2)\n",
    "LIMIT\n",
    "    10;\n",
    "\"\"\"\n",
    "\n",
    "cursor.execute(population_proportion)\n",
    "population_proportion = cursor.fetchall()\n",
    "\n",
    "print('Percentage of population using Vivino:\\n')\n",
    "\n",
    "for i in population_proportion:\n",
    "    print(str(i[0])+': '+str(i[1])+'%')\n",
    "\n",
    "csv_filename = '../data/csv_tableau/population_proportion.csv'\n",
    "\n",
    "with open(csv_filename, 'w', newline='') as csv_file:\n",
    "    csv_writer = csv.writer(csv_file)\n",
    "    column_names = [description[0] for description in cursor.description]\n",
    "    csv_writer.writerow(column_names)\n",
    "    csv_writer.writerows(population_proportion)"
   ]
  },
  {
   "cell_type": "code",
   "execution_count": 15,
   "metadata": {},
   "outputs": [
    {
     "name": "stdout",
     "output_type": "stream",
     "text": [
      "Number of users per winery per country:\n",
      "\n",
      "Moldavie: 3250\n",
      "Hongrie: 5316\n",
      "Chili: 5648\n",
      "Afrique du Sud: 6379\n",
      "Croatie: 6553\n",
      "Australie: 7335\n",
      "Grèce: 7395\n",
      "France: 8842\n",
      "Italie: 10073\n",
      "Argentine: 11791\n",
      "Espagne: 12562\n",
      "Allemagne: 18691\n",
      "Portugal: 19258\n",
      "Israël: 28459\n",
      "Roumanie: 33263\n",
      "Suisse: 41616\n",
      "États-Unis: 43609\n"
     ]
    }
   ],
   "source": [
    "# Number of users per winery in country\n",
    "wineries_per_country = \"\"\"\n",
    "SELECT\n",
    "    countries.name,\n",
    "    CAST(ROUND(CAST(countries.users_count AS FLOAT)/CAST(countries.wineries_count AS FLOAT)*100) AS INTEGER) AS users_per_winery_percent\n",
    "FROM\n",
    "    countries\n",
    "GROUP BY\n",
    "    countries.name\n",
    "ORDER BY\n",
    "    users_per_winery_percent \n",
    "\"\"\"\n",
    "\n",
    "cursor.execute(wineries_per_country)\n",
    "wineries_per_country = cursor.fetchall()\n",
    "\n",
    "print('Number of users per winery per country:\\n')\n",
    "\n",
    "for i in wineries_per_country:\n",
    "    print(str(i[0]+': '+ str(i[1])))\n",
    "\n",
    "csv_filename = '../data/csv_tableau/wineries_per_country.csv'\n",
    "\n",
    "with open(csv_filename, 'w', newline='') as csv_file:\n",
    "    csv_writer = csv.writer(csv_file)\n",
    "    column_names = [description[0] for description in cursor.description]\n",
    "    csv_writer.writerow(column_names)\n",
    "    csv_writer.writerows(wineries_per_country)\n"
   ]
  },
  {
   "cell_type": "markdown",
   "metadata": {},
   "source": [
    "# 6. Average wine rating for each country. Do the same for the vintages."
   ]
  },
  {
   "cell_type": "code",
   "execution_count": 16,
   "metadata": {},
   "outputs": [
    {
     "name": "stdout",
     "output_type": "stream",
     "text": [
      "Average wine rating per country (3 d.p.):\n",
      "\n",
      "Israël: 4.5 calulcated from 894 ratings.\n",
      "Allemagne: 4.5 calulcated from 8257 ratings.\n",
      "États-Unis: 4.491 calulcated from 834263 ratings.\n",
      "Moldavie: 4.48 calulcated from 14114 ratings.\n",
      "Hongrie: 4.473 calulcated from 30564 ratings.\n",
      "Afrique du Sud: 4.459 calulcated from 59995 ratings.\n",
      "Australie: 4.458 calulcated from 52138 ratings.\n",
      "France: 4.447 calulcated from 2124809 ratings.\n",
      "Espagne: 4.444 calulcated from 746710 ratings.\n",
      "Portugal: 4.436 calulcated from 62454 ratings.\n",
      "Chili: 4.431 calulcated from 159256 ratings.\n",
      "Italie: 4.43 calulcated from 2135839 ratings.\n",
      "Argentine: 4.417 calulcated from 283673 ratings.\n",
      "Roumanie: 4.4 calulcated from 166 ratings.\n",
      "Grèce: 4.4 calulcated from 610 ratings.\n",
      "Suisse: 4.35 calulcated from 1047 ratings.\n",
      "Croatie: 4.3 calulcated from 292 ratings.\n"
     ]
    }
   ],
   "source": [
    "# Average wine rating for each country\n",
    "\n",
    "wine_rating_per_country = \"\"\"\n",
    "SELECT\n",
    "    countries.name,\n",
    "    round(avg(wines.ratings_average),3) AS wine_rating_avg,\n",
    "    sum(wines.ratings_count)\n",
    "FROM\n",
    "    countries\n",
    "INNER JOIN regions \n",
    "    ON countries.code = regions.country_code\n",
    "INNER JOIN wines\n",
    "    ON regions.id = wines.region_id\n",
    "GROUP BY \n",
    "    countries.name\n",
    "ORDER BY\n",
    "    wine_rating_avg DESC;\n",
    "\"\"\"\n",
    "cursor.execute(wine_rating_per_country)\n",
    "wine_rating_per_country = cursor.fetchall()\n",
    "\n",
    "print('Average wine rating per country (3 d.p.):\\n')\n",
    "for i in wine_rating_per_country:\n",
    "    print(str(i[0])+': '+ str(i[1])+' calulcated from '+str(i[2])+' ratings.')\n",
    "\n",
    "csv_filename = '../data/csv_tableau/wine_rating_per_country.csv'\n",
    "\n",
    "with open(csv_filename, 'w', newline='') as csv_file:\n",
    "    csv_writer = csv.writer(csv_file)\n",
    "    column_names = [description[0] for description in cursor.description]\n",
    "    csv_writer.writerow(column_names)\n",
    "    csv_writer.writerows(wine_rating_per_country)\n",
    "\n",
    "    "
   ]
  },
  {
   "cell_type": "code",
   "execution_count": 17,
   "metadata": {},
   "outputs": [
    {
     "name": "stdout",
     "output_type": "stream",
     "text": [
      "Average vintage rating per country (3 d.p.):\n",
      "\n",
      "Grèce: 4.6 calulcated from 62 ratings.\n",
      "France: 4.556 calulcated from 402781 ratings.\n",
      "États-Unis: 4.552 calulcated from 102030 ratings.\n",
      "Australie: 4.53 calulcated from 3723 ratings.\n",
      "Italie: 4.523 calulcated from 465884 ratings.\n",
      "Allemagne: 4.522 calulcated from 780 ratings.\n",
      "Espagne: 4.519 calulcated from 48689 ratings.\n",
      "Moldavie: 4.517 calulcated from 4172 ratings.\n",
      "Portugal: 4.515 calulcated from 5487 ratings.\n",
      "Roumanie: 4.5 calulcated from 31 ratings.\n",
      "Afrique du Sud: 4.5 calulcated from 5558 ratings.\n",
      "Argentine: 4.481 calulcated from 16930 ratings.\n",
      "Chili: 4.478 calulcated from 14066 ratings.\n",
      "Hongrie: 4.44 calulcated from 2981 ratings.\n",
      "Suisse: 4.4 calulcated from 162 ratings.\n",
      "Croatie: 4.4 calulcated from 234 ratings.\n"
     ]
    }
   ],
   "source": [
    "vintage_rating_per_country = \"\"\"\n",
    "SELECT\n",
    "    countries.name,\n",
    "    round(avg(vintages.ratings_average),3) AS vintage_rating_avg,\n",
    "    sum(vintages.ratings_count)\n",
    "FROM\n",
    "    countries\n",
    "INNER JOIN regions \n",
    "    ON countries.code = regions.country_code\n",
    "INNER JOIN wines\n",
    "    ON regions.id = wines.region_id\n",
    "INNER JOIN vintages\n",
    "    ON wines.id = vintages.wine_id\n",
    "WHERE\n",
    "    vintages.ratings_average >= 4.4\n",
    "GROUP BY \n",
    "    countries.name\n",
    "ORDER BY\n",
    "    vintage_rating_avg DESC;\n",
    "\"\"\"\n",
    "cursor.execute(vintage_rating_per_country)\n",
    "vintage_rating_per_country = cursor.fetchall()\n",
    "\n",
    "print('Average vintage rating per country (3 d.p.):\\n')\n",
    "for i in vintage_rating_per_country:\n",
    "    print(str(i[0])+': '+ str(i[1])+' calulcated from '+str(i[2])+' ratings.')\n",
    "\n",
    "csv_filename = '../data/csv_tableau/vintage_rating_per_country.csv'\n",
    "\n",
    "with open(csv_filename, 'w', newline='') as csv_file:\n",
    "    csv_writer = csv.writer(csv_file)\n",
    "    column_names = [description[0] for description in cursor.description]\n",
    "    csv_writer.writerow(column_names)\n",
    "    csv_writer.writerows(vintage_rating_per_country)"
   ]
  },
  {
   "cell_type": "markdown",
   "metadata": {},
   "source": [
    "# Nice to have feature 3 - Cabernet Sauvignon"
   ]
  },
  {
   "cell_type": "code",
   "execution_count": 31,
   "metadata": {},
   "outputs": [
    {
     "name": "stdout",
     "output_type": "stream",
     "text": [
      "('Caymus Special Selection Cabernet Sauvignon 1997', 4.6, 299, 397.5)\n",
      "('Leonetti Cabernet Sauvignon 2006', 4.7, 64, 201.25)\n",
      "('Paul Hobbs Beckstoffer To Kalon Vineyard Cabernet Sauvignon 2005', 4.5, 65, 260.0)\n",
      "('Leonetti Cabernet Sauvignon 2008', 4.6, 125, 178.75)\n",
      "('Leonetti Cabernet Sauvignon 2004', 4.6, 36, 221.25)\n",
      "('Leonetti Cabernet Sauvignon 2009', 4.5, 163, 201.25)\n",
      "('Leonetti Cabernet Sauvignon 2001', 0.0, 24, 201.25)\n",
      "('Leonetti Cabernet Sauvignon 2003', 4.6, 42, 201.25)\n",
      "('Quebrada de Macul Domus Aurea Cabernet Sauvignon 2013', 4.4, 827, 169.75)\n",
      "('Scarecrow Cabernet Sauvignon 2015', 4.8, 243, 1558.75)\n",
      "('Eisele Vineyard Altagracia Cabernet Sauvignon 2012', 4.4, 552, 162.15)\n",
      "('Silver Oak Alexander Valley Cabernet Sauvignon 2017', 4.5, 3609, 137.5)\n",
      "('Caymus Special Selection Cabernet Sauvignon 2017', 4.7, 1890, 443.0)\n",
      "('Dunn Howell Mountain Cabernet Sauvignon 2017', 4.6, 235, 295.0)\n",
      "('Michael David Winery Rapture Cabernet Sauvignon 2017', 4.4, 224, 106.0)\n",
      "('Duckhorn Rutherford Cabernet Sauvignon 2017', 4.6, 56, 147.5)\n",
      "('Beaulieu Vineyard (BV) Georges De Latour Private Reserve Cabernet Sauvignon 2018', 4.4, 465, 119.0)\n",
      "('Darioush Cabernet Sauvignon (Signature) 2018', 4.6, 1081, 106.96)\n",
      "(\"Stag's Leap Wine Cellars CASK 23 Cabernet Sauvignon 2018\", 4.6, 260, 360.0)\n",
      "('Joseph Phelps Vineyards Cabernet Sauvignon 2018', 4.4, 2594, 85.95)\n",
      "(\"Stag's Leap Wine Cellars S.L.V. Cabernet Sauvignon 2018\", 4.6, 231, 199.95)\n",
      "('Buena Vista Chateau Buena Vista Cabernet Sauvignon Napa Valley 2018', 4.4, 3867, 61.95)\n",
      "(\"Stag's Leap Wine Cellars FAY Cabernet Sauvignon 2018\", 4.5, 451, 175.95)\n",
      "('Forman Cabernet Sauvignon 2018', 4.5, 53, 121.95)\n",
      "('Peter Michael Au Paradis Cabernet Sauvignon 2018', 4.5, 98, 412.5)\n",
      "('Quilceda Creek Cabernet Sauvignon 2018', 4.6, 184, 275.0)\n",
      "('Caymus Cabernet Sauvignon 2019', 4.6, 15647, 177.95)\n",
      "('Shafer One Point Five Cabernet Sauvignon 2019', 4.5, 770, 125.95)\n",
      "('Joseph Phelps Vineyards Cabernet Sauvignon 2019', 4.5, 1765, 95.95)\n",
      "('Beaulieu Vineyard (BV) Georges De Latour Private Reserve Cabernet Sauvignon 2019', 4.6, 325, 199.95)\n",
      "('Lillian Cabernet Sauvignon 2016', 0.0, 17, 209.05)\n",
      "('Forman Cabernet Sauvignon 2019', 0.0, 11, 134.95)\n",
      "('Hourglass Blueline Estate Cabernet Sauvignon 2019', 4.5, 52, 195.0)\n",
      "('Marion Cabernet Sauvignon 2019', 0.0, 8, 36.3)\n",
      "(\"Stag's Leap Wine Cellars ARTEMIS Cabernet Sauvignon 2020\", 4.5, 627, 89.95)\n",
      "('Alejandro Bulgheroni Lithology Cabernet Sauvignon 2019', 4.5, 32, 154.6)\n",
      "('Morlet Family Vineyards Cabernet Sauvignon Coeur De Vallée 2019', 0.0, 12, 295.0)\n",
      "('Cantina Kurtatsch Freienfeld Cabernet Sauvignon Riserva 2000', 0.0, 1, 156.25)\n"
     ]
    }
   ],
   "source": [
    "cabernet_sauvignon_vintages = \"\"\"\n",
    "SELECT\n",
    "    vintages.name,\n",
    "    vintages.ratings_average,\n",
    "    vintages.ratings_count,\n",
    "    vintages.price_euros\n",
    "FROM\n",
    "    vintages\n",
    "WHERE\n",
    "    vintages.name LIKE \"%Cabernet Sauvignon%\"\n",
    "\"\"\"\n",
    "cursor.execute(cabernet_sauvignon_vintages)\n",
    "cabernet_sauvignon_vintages = cursor.fetchall()\n",
    "\n",
    "csv_filename = '../data/csv_tableau/cabernet_sauvignon_vintages.csv'\n",
    "\n",
    "with open(csv_filename, 'w', newline='') as csv_file:\n",
    "    csv_writer = csv.writer(csv_file)\n",
    "    column_names = [description[0] for description in cursor.description]\n",
    "    csv_writer.writerow(column_names)\n",
    "    csv_writer.writerows(cabernet_sauvignon_vintages)\n",
    "\n",
    "for row in cabernet_sauvignon_vintages:\n",
    "    print(row)\n"
   ]
  },
  {
   "cell_type": "code",
   "execution_count": 23,
   "metadata": {},
   "outputs": [
    {
     "data": {
      "text/plain": [
       "[('Scarecrow Cabernet Sauvignon 2015', 1, 4.8, 243, 1558.75),\n",
       " ('Buena Vista Chateau Buena Vista Cabernet Sauvignon Napa Valley 2018',\n",
       "  1,\n",
       "  4.4,\n",
       "  3867,\n",
       "  61.95)]"
      ]
     },
     "metadata": {},
     "output_type": "display_data"
    }
   ],
   "source": [
    "best_cabernet_sauvignon_vintages = \"\"\"\n",
    "SELECT\n",
    "    vintages.name,\n",
    "    vintage_toplists_rankings.rank,\n",
    "    vintages.ratings_average,\n",
    "    vintages.ratings_count,\n",
    "    vintages.price_euros\n",
    "FROM\n",
    "    vintages\n",
    "INNER JOIN\n",
    "    vintage_toplists_rankings\n",
    "    ON vintages.id = vintage_toplists_rankings.vintage_id\n",
    "WHERE\n",
    "    vintages.name LIKE '%Cabernet Sauvignon%'\n",
    "\n",
    "\"\"\"\n",
    "cursor.execute(best_cabernet_sauvignon_vintages)\n",
    "best_cabernet_sauvignon_vintages = cursor.fetchall()\n",
    "display(best_cabernet_sauvignon_vintages)\n",
    "\n",
    "csv_filename = '../data/csv_tableau/best_cabernet_sauvignon_vintages.csv'\n",
    "\n",
    "with open(csv_filename, 'w', newline='') as csv_file:\n",
    "    csv_writer = csv.writer(csv_file)\n",
    "    column_names = [description[0] for description in cursor.description]\n",
    "    csv_writer.writerow(column_names)\n",
    "    csv_writer.writerows(best_cabernet_sauvignon_vintages)"
   ]
  },
  {
   "cell_type": "code",
   "execution_count": 19,
   "metadata": {},
   "outputs": [
    {
     "name": "stdout",
     "output_type": "stream",
     "text": [
      "(4.8, 3.304091, None, 4.7008004, 1.7583516, 3.3939934)\n"
     ]
    }
   ],
   "source": [
    "# Find the statistics for Scarecrow 2015 vintage\n",
    "\n",
    "scarecrow_stats = \"\"\"\n",
    "SELECT\n",
    "    wines.ratings_average AS rating,\n",
    "    wines.acidity AS acidity,\n",
    "    wines.fizziness AS fizziness,\n",
    "    wines.intensity AS intensity,\n",
    "    wines.sweetness AS sweetness,\n",
    "    wines.tannin AS tannin\n",
    "FROM\n",
    "    wines \n",
    "INNER JOIN vintages\n",
    "    ON wines.id = vintages.wine_id  \n",
    "WHERE\n",
    "    vintages.name = 'Scarecrow Cabernet Sauvignon 2015';\n",
    "\"\"\"\n",
    "\n",
    "cursor.execute(scarecrow_stats)\n",
    "scarecrow_stats = cursor.fetchall()\n",
    "\n",
    "for row in scarecrow_stats:\n",
    "    print(row)\n",
    "\n",
    "csv_filename = '../data/csv_tableau/scarecrow_stats.csv'\n",
    "\n",
    "with open(csv_filename, 'w', newline='') as csv_file:\n",
    "    csv_writer = csv.writer(csv_file)\n",
    "    column_names = [description[0] for description in cursor.description]\n",
    "    csv_writer.writerow(column_names)\n",
    "    csv_writer.writerows(scarecrow_stats)\n"
   ]
  },
  {
   "cell_type": "code",
   "execution_count": 20,
   "metadata": {},
   "outputs": [],
   "source": [
    "# Find a list of 5 wines that are similar to Scarecrow 2015 vintage using the above ratings\n",
    "\n",
    "similar_to_scarecrow = \"\"\"\n",
    "SELECT\n",
    "    vintages.name,\n",
    "    vintages.price_euros,\n",
    "    vintages.ratings_average\n",
    "FROM \n",
    "    vintages\n",
    "INNER JOIN wines \n",
    "    ON vintages.wine_id  = wines.id\n",
    "WHERE\n",
    "    (wines.acidity BETWEEN 3.2 AND 3.4)\n",
    "    AND wines.fizziness IS NULL\n",
    "    AND (wines.intensity BETWEEN 4.6 AND 4.8)\n",
    "    AND (wines.sweetness BETWEEN 1.65 AND 1.85)\n",
    "    AND (wines.tannin BETWEEN 3.3 AND 3.5)\n",
    "\"\"\"\n",
    "cursor.execute(similar_to_scarecrow)\n",
    "similar_to_scarecrow = cursor.fetchall()\n",
    "\n",
    "csv_filename = '../data/csv_tableau/similar_to_scarecrow.csv'\n",
    "\n",
    "with open(csv_filename, 'w', newline='') as csv_file:\n",
    "    csv_writer = csv.writer(csv_file)\n",
    "    column_names = [description[0] for description in cursor.description]\n",
    "    csv_writer.writerow(column_names)\n",
    "    csv_writer.writerows(similar_to_scarecrow)"
   ]
  }
 ],
 "metadata": {
  "kernelspec": {
   "display_name": "Python 3",
   "language": "python",
   "name": "python3"
  },
  "language_info": {
   "codemirror_mode": {
    "name": "ipython",
    "version": 3
   },
   "file_extension": ".py",
   "mimetype": "text/x-python",
   "name": "python",
   "nbconvert_exporter": "python",
   "pygments_lexer": "ipython3",
   "version": "3.11.5"
  },
  "orig_nbformat": 4
 },
 "nbformat": 4,
 "nbformat_minor": 2
}
