{
 "cells": [
  {
   "cell_type": "code",
   "execution_count": 12,
   "metadata": {},
   "outputs": [],
   "source": [
    "import sqlite3\n",
    "import csv\n",
    "\n",
    "# Connect to DB\n",
    "connexion = sqlite3.connect(\"../data/db/vivino.db\")\n",
    "cursor = connexion.cursor()"
   ]
  },
  {
   "cell_type": "code",
   "execution_count": 2,
   "metadata": {},
   "outputs": [],
   "source": [
    "# cursor.execute(\"\"\"\n",
    "#    SELECT\n",
    "        \n",
    "#    FROM\n",
    "    \n",
    "#    WHERE\n",
    "               \n",
    "#    GROUP BY\n",
    "               \n",
    "#    HAVING\n",
    "               \n",
    "#    ORDER BY\n",
    "        \n",
    "#    LIMIT ;\n",
    "#\"\"\")\n",
    "# cursor.fetchall()\n"
   ]
  },
  {
   "cell_type": "markdown",
   "metadata": {},
   "source": [
    "## 2. We have a marketing budget. Which countries should we prioritise, and why?\n",
    "\n",
    "- countries\n",
    "  - name\n",
    "  - regions_count\n",
    "  - users_count\n",
    "  - wines_count\n",
    "  - wineries_count\n",
    "  - population"
   ]
  },
  {
   "cell_type": "code",
   "execution_count": 13,
   "metadata": {},
   "outputs": [
    {
     "data": {
      "text/plain": [
       "[('États-Unis', 12273684, 339996564),\n",
       " ('France', 5973301, 64756584),\n",
       " ('Italie', 4270717, 58870763),\n",
       " ('Allemagne', 2549989, 83294633),\n",
       " ('Espagne', 2264396, 47519628),\n",
       " ('Suisse', 1601799, 8796669),\n",
       " ('Portugal', 1123535, 10247605),\n",
       " ('Australie', 1022965, 26439112),\n",
       " ('Argentine', 629532, 45773884),\n",
       " ('Chili', 326757, 19629590)]"
      ]
     },
     "metadata": {},
     "output_type": "display_data"
    }
   ],
   "source": [
    "# Number of users by country top 10\n",
    "\n",
    "top_10_filter = \"\"\"\n",
    "SELECT\n",
    "    name AS country_name,\n",
    "    users_count AS number_of_users,\n",
    "    population AS population\n",
    "FROM\n",
    "    countries\n",
    "ORDER BY\n",
    "    countries.users_count DESC\n",
    "LIMIT\n",
    "    10;\n",
    "\"\"\"\n",
    "\n",
    "cursor.execute(top_10_filter)\n",
    "top_10_filter = cursor.fetchall()\n",
    "display(top_10_filter)\n",
    "\n",
    "csv_filename = '../data/csv/queries/top_ten_user.csv'\n",
    "\n",
    "with open(csv_filename, 'w', newline='') as csv_file:\n",
    "    csv_writer = csv.writer(csv_file)\n",
    "    column_names = [description[0] for description in cursor.description]\n",
    "    csv_writer.writerow(column_names)\n",
    "    csv_writer.writerows(top_10_filter)\n"
   ]
  },
  {
   "cell_type": "code",
   "execution_count": 17,
   "metadata": {},
   "outputs": [
    {
     "name": "stdout",
     "output_type": "stream",
     "text": [
      "Percentage of population using Vivino:\n",
      "\n",
      "Suisse: 18.21%\n",
      "Portugal: 10.96%\n",
      "France: 9.22%\n",
      "Italie: 7.25%\n",
      "Espagne: 4.77%\n",
      "États-Unis: 3.61%\n",
      "Australie: 3.87%\n",
      "Allemagne: 3.06%\n",
      "Chili: 1.66%\n",
      "Israël: 1.64%\n"
     ]
    }
   ],
   "source": [
    "# Proportion of populatuon as users top_10\n",
    "population_proportion = \"\"\"\n",
    "SELECT\n",
    "    countries.name,\n",
    "    round((CAST(countries.users_count AS FLOAT)/CAST(countries.population AS FLOAT)*100),2) AS population_proportion\n",
    "FROM\n",
    "    countries\n",
    "ORDER BY\n",
    "    round(CAST(countries.users_count AS FLOAT)/CAST(countries.population AS FLOAT),2) DESC\n",
    "LIMIT\n",
    "    10;\n",
    "\"\"\"\n",
    "\n",
    "cursor.execute(population_proportion)\n",
    "population_proportion = cursor.fetchall()\n",
    "\n",
    "print('Percentage of population using Vivino:\\n')\n",
    "\n",
    "for i in population_proportion:\n",
    "    print(str(i[0])+': '+str(i[1])+'%')\n",
    "\n",
    "csv_filename = '../data/csv/queries/population_proportion.csv'\n",
    "\n",
    "with open(csv_filename, 'w', newline='') as csv_file:\n",
    "    csv_writer = csv.writer(csv_file)\n",
    "    column_names = [description[0] for description in cursor.description]\n",
    "    csv_writer.writerow(column_names)\n",
    "    csv_writer.writerows(population_proportion)"
   ]
  },
  {
   "cell_type": "code",
   "execution_count": 15,
   "metadata": {},
   "outputs": [
    {
     "name": "stdout",
     "output_type": "stream",
     "text": [
      "Number of users per winery per country:\n",
      "\n",
      "Moldavie: 3250\n",
      "Hongrie: 5316\n",
      "Chili: 5648\n",
      "Afrique du Sud: 6379\n",
      "Croatie: 6553\n",
      "Australie: 7335\n",
      "Grèce: 7395\n",
      "France: 8842\n",
      "Italie: 10073\n",
      "Argentine: 11791\n",
      "Espagne: 12562\n",
      "Allemagne: 18691\n",
      "Portugal: 19258\n",
      "Israël: 28459\n",
      "Roumanie: 33263\n",
      "Suisse: 41616\n",
      "États-Unis: 43609\n"
     ]
    }
   ],
   "source": [
    "# Number of users per winery in country\n",
    "wineries_per_country = \"\"\"\n",
    "SELECT\n",
    "    countries.name,\n",
    "    CAST(ROUND(CAST(countries.users_count AS FLOAT)/CAST(countries.wineries_count AS FLOAT)*100) AS INTEGER) AS users_per_winery_percent\n",
    "FROM\n",
    "    countries\n",
    "GROUP BY\n",
    "    countries.name\n",
    "ORDER BY\n",
    "    users_per_winery_percent \n",
    "\"\"\"\n",
    "\n",
    "cursor.execute(wineries_per_country)\n",
    "wineries_per_country = cursor.fetchall()\n",
    "\n",
    "print('Number of users per winery per country:\\n')\n",
    "\n",
    "for i in wineries_per_country:\n",
    "    print(str(i[0]+': '+ str(i[1])))\n",
    "\n",
    "csv_filename = '../data/csv/queries/wineries_per_country.csv'\n",
    "\n",
    "with open(csv_filename, 'w', newline='') as csv_file:\n",
    "    csv_writer = csv.writer(csv_file)\n",
    "    column_names = [description[0] for description in cursor.description]\n",
    "    csv_writer.writerow(column_names)\n",
    "    csv_writer.writerows(wineries_per_country)\n"
   ]
  },
  {
   "cell_type": "markdown",
   "metadata": {},
   "source": [
    "# 2. Average wine rating for each country. Do the same for the vintages."
   ]
  },
  {
   "cell_type": "code",
   "execution_count": 18,
   "metadata": {},
   "outputs": [
    {
     "name": "stdout",
     "output_type": "stream",
     "text": [
      "Average wine rating per country (3 d.p.):\n",
      "\n",
      "Israël: 4.5 calulcated from 894 ratings.\n",
      "Allemagne: 4.5 calulcated from 8257 ratings.\n",
      "États-Unis: 4.491 calulcated from 834263 ratings.\n",
      "Moldavie: 4.48 calulcated from 14114 ratings.\n",
      "Hongrie: 4.473 calulcated from 30564 ratings.\n",
      "Afrique du Sud: 4.459 calulcated from 59995 ratings.\n",
      "Australie: 4.458 calulcated from 52138 ratings.\n",
      "France: 4.447 calulcated from 2124809 ratings.\n",
      "Espagne: 4.444 calulcated from 746710 ratings.\n",
      "Portugal: 4.436 calulcated from 62454 ratings.\n",
      "Chili: 4.431 calulcated from 159256 ratings.\n",
      "Italie: 4.43 calulcated from 2135839 ratings.\n",
      "Argentine: 4.417 calulcated from 283673 ratings.\n",
      "Roumanie: 4.4 calulcated from 166 ratings.\n",
      "Grèce: 4.4 calulcated from 610 ratings.\n",
      "Suisse: 4.35 calulcated from 1047 ratings.\n",
      "Croatie: 4.3 calulcated from 292 ratings.\n"
     ]
    }
   ],
   "source": [
    "# Average wine rating for each country\n",
    "\n",
    "wine_rating_per_country = \"\"\"\n",
    "SELECT\n",
    "    countries.name,\n",
    "    round(avg(wines.ratings_average),3) AS wine_rating_avg,\n",
    "    sum(wines.ratings_count)\n",
    "FROM\n",
    "    countries\n",
    "INNER JOIN regions \n",
    "    ON countries.code = regions.country_code\n",
    "INNER JOIN wines\n",
    "    ON regions.id = wines.region_id\n",
    "GROUP BY \n",
    "    countries.name\n",
    "ORDER BY\n",
    "    wine_rating_avg DESC;\n",
    "\"\"\"\n",
    "cursor.execute(wine_rating_per_country)\n",
    "wine_rating_per_country = cursor.fetchall()\n",
    "\n",
    "print('Average wine rating per country (3 d.p.):\\n')\n",
    "for i in wine_rating_per_country:\n",
    "    print(str(i[0])+': '+ str(i[1])+' calulcated from '+str(i[2])+' ratings.')\n",
    "\n",
    "csv_filename = '../data/csv/queries/wine_rating_per_country.csv'\n",
    "\n",
    "with open(csv_filename, 'w', newline='') as csv_file:\n",
    "    csv_writer = csv.writer(csv_file)\n",
    "    column_names = [description[0] for description in cursor.description]\n",
    "    csv_writer.writerow(column_names)\n",
    "    csv_writer.writerows(wine_rating_per_country)\n",
    "\n",
    "    "
   ]
  },
  {
   "cell_type": "code",
   "execution_count": 19,
   "metadata": {},
   "outputs": [
    {
     "name": "stdout",
     "output_type": "stream",
     "text": [
      "Average vintage rating per country (3 d.p.):\n",
      "\n",
      "Grèce: 4.6 calulcated from 62 ratings.\n",
      "France: 4.556 calulcated from 402781 ratings.\n",
      "États-Unis: 4.552 calulcated from 102030 ratings.\n",
      "Australie: 4.53 calulcated from 3723 ratings.\n",
      "Italie: 4.523 calulcated from 465884 ratings.\n",
      "Allemagne: 4.522 calulcated from 780 ratings.\n",
      "Espagne: 4.519 calulcated from 48689 ratings.\n",
      "Moldavie: 4.517 calulcated from 4172 ratings.\n",
      "Portugal: 4.515 calulcated from 5487 ratings.\n",
      "Roumanie: 4.5 calulcated from 31 ratings.\n",
      "Afrique du Sud: 4.5 calulcated from 5558 ratings.\n",
      "Argentine: 4.481 calulcated from 16930 ratings.\n",
      "Chili: 4.478 calulcated from 14066 ratings.\n",
      "Hongrie: 4.44 calulcated from 2981 ratings.\n",
      "Suisse: 4.4 calulcated from 162 ratings.\n",
      "Croatie: 4.4 calulcated from 234 ratings.\n"
     ]
    }
   ],
   "source": [
    "vintage_rating_per_country = \"\"\"\n",
    "SELECT\n",
    "    countries.name,\n",
    "    round(avg(vintages.ratings_average),3) AS vintage_rating_avg,\n",
    "    sum(vintages.ratings_count)\n",
    "FROM\n",
    "    countries\n",
    "INNER JOIN regions \n",
    "    ON countries.code = regions.country_code\n",
    "INNER JOIN wines\n",
    "    ON regions.id = wines.region_id\n",
    "INNER JOIN vintages\n",
    "    ON wines.id = vintages.wine_id\n",
    "WHERE\n",
    "    vintages.ratings_average >= 4.4\n",
    "GROUP BY \n",
    "    countries.name\n",
    "ORDER BY\n",
    "    vintage_rating_avg DESC;\n",
    "\"\"\"\n",
    "cursor.execute(vintage_rating_per_country)\n",
    "vintage_rating_per_country = cursor.fetchall()\n",
    "\n",
    "print('Average vintage rating per country (3 d.p.):\\n')\n",
    "for i in vintage_rating_per_country:\n",
    "    print(str(i[0])+': '+ str(i[1])+' calulcated from '+str(i[2])+' ratings.')\n",
    "\n",
    "csv_filename = '../data/csv/queries/vintage_rating_per_country.csv'\n",
    "\n",
    "with open(csv_filename, 'w', newline='') as csv_file:\n",
    "    csv_writer = csv.writer(csv_file)\n",
    "    column_names = [description[0] for description in cursor.description]\n",
    "    csv_writer.writerow(column_names)\n",
    "    csv_writer.writerows(vintage_rating_per_country)"
   ]
  },
  {
   "cell_type": "markdown",
   "metadata": {},
   "source": [
    "# Nice to have feature 3 - Cabernet Sauvignon"
   ]
  },
  {
   "cell_type": "code",
   "execution_count": 22,
   "metadata": {},
   "outputs": [],
   "source": [
    "best_cabernet_sauvignon_vintages = \"\"\"\n",
    "SELECT\n",
    "    vintages.name,\n",
    "    vintage_toplists_rankings.rank,\n",
    "    vintages.ratings_average,\n",
    "    vintages.ratings_count,\n",
    "    vintages.price_euros\n",
    "FROM\n",
    "    vintages\n",
    "INNER JOIN\n",
    "    vintage_toplists_rankings\n",
    "    ON vintages.id = vintage_toplists_rankings.vintage_id\n",
    "WHERE\n",
    "    vintages.name LIKE '%Cabernet Sauvignon%'\n",
    "\n",
    "\"\"\"\n",
    "cursor.execute(best_cabernet_sauvignon_vintages)\n",
    "best_cabernet_sauvignon_vintages = cursor.fetchall()\n",
    "\n",
    "best_cabernet_sauvignon_vintages\n",
    "\n",
    "csv_filename = '../data/csv/queries/best_cabernet_sauvignon_vintages.csv'\n",
    "\n",
    "with open(csv_filename, 'w', newline='') as csv_file:\n",
    "    csv_writer = csv.writer(csv_file)\n",
    "    column_names = [description[0] for description in cursor.description]\n",
    "    csv_writer.writerow(column_names)\n",
    "    csv_writer.writerows(best_cabernet_sauvignon_vintages)"
   ]
  },
  {
   "cell_type": "code",
   "execution_count": 23,
   "metadata": {},
   "outputs": [
    {
     "name": "stdout",
     "output_type": "stream",
     "text": [
      "(4.8, 3.304091, None, 4.7008004, 1.7583516, 3.3939934)\n"
     ]
    }
   ],
   "source": [
    "# Find the statistics for Scarecrow 2015 vintage\n",
    "\n",
    "scarecrow_stats = \"\"\"\n",
    "SELECT\n",
    "    wines.ratings_average AS rating,\n",
    "    wines.acidity AS acidity,\n",
    "    wines.fizziness AS fizziness,\n",
    "    wines.intensity AS intensity,\n",
    "    wines.sweetness AS sweetness,\n",
    "    wines.tannin AS tannin\n",
    "FROM\n",
    "    wines \n",
    "INNER JOIN vintages\n",
    "    ON wines.id = vintages.wine_id  \n",
    "WHERE\n",
    "    vintages.name = 'Scarecrow Cabernet Sauvignon 2015';\n",
    "\"\"\"\n",
    "\n",
    "cursor.execute(scarecrow_stats)\n",
    "scarecrow_stats = cursor.fetchall()\n",
    "\n",
    "for row in scarecrow_stats:\n",
    "    print(row)\n",
    "\n",
    "csv_filename = '../data/csv/queries/scarecrow_stats.csv'\n",
    "\n",
    "with open(csv_filename, 'w', newline='') as csv_file:\n",
    "    csv_writer = csv.writer(csv_file)\n",
    "    column_names = [description[0] for description in cursor.description]\n",
    "    csv_writer.writerow(column_names)\n",
    "    csv_writer.writerows(scarecrow_stats)\n"
   ]
  },
  {
   "cell_type": "code",
   "execution_count": 24,
   "metadata": {},
   "outputs": [],
   "source": [
    "# Find a list of 5 wines that are similar to Scarecrow 2015 vintage using the above ratings\n",
    "\n",
    "similar_to_scarecrow = \"\"\"\n",
    "SELECT\n",
    "    vintages.name,\n",
    "    vintages.price_euros,\n",
    "    vintages.ratings_average\n",
    "FROM \n",
    "    vintages\n",
    "INNER JOIN wines \n",
    "    ON vintages.wine_id  = wines.id\n",
    "WHERE\n",
    "    (wines.acidity BETWEEN 3.2 AND 3.4)\n",
    "    AND wines.fizziness IS NULL\n",
    "    AND (wines.intensity BETWEEN 4.6 AND 4.8)\n",
    "    AND (wines.sweetness BETWEEN 1.65 AND 1.85)\n",
    "    AND (wines.tannin BETWEEN 3.3 AND 3.5)\n",
    "\"\"\"\n",
    "cursor.execute(similar_to_scarecrow)\n",
    "similar_to_scarecrow = cursor.fetchall()\n",
    "\n",
    "csv_filename = '../data/csv/queries/similar_to_scarecrow.csv'\n",
    "\n",
    "with open(csv_filename, 'w', newline='') as csv_file:\n",
    "    csv_writer = csv.writer(csv_file)\n",
    "    column_names = [description[0] for description in cursor.description]\n",
    "    csv_writer.writerow(column_names)\n",
    "    csv_writer.writerows(similar_to_scarecrow)"
   ]
  }
 ],
 "metadata": {
  "kernelspec": {
   "display_name": "Python 3",
   "language": "python",
   "name": "python3"
  },
  "language_info": {
   "codemirror_mode": {
    "name": "ipython",
    "version": 3
   },
   "file_extension": ".py",
   "mimetype": "text/x-python",
   "name": "python",
   "nbconvert_exporter": "python",
   "pygments_lexer": "ipython3",
   "version": "3.11.5"
  },
  "orig_nbformat": 4
 },
 "nbformat": 4,
 "nbformat_minor": 2
}
