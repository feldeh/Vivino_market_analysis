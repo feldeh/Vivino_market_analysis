{
 "cells": [
  {
   "cell_type": "code",
   "execution_count": 9,
   "metadata": {},
   "outputs": [],
   "source": [
    "import streamlit as st\n",
    "from sqlalchemy import create_engine\n",
    "from sqlalchemy.orm import declarative_base\n",
    "import sqlite3\n",
    "\n"
   ]
  },
  {
   "cell_type": "code",
   "execution_count": 10,
   "metadata": {},
   "outputs": [],
   "source": [
    "connexion = sqlite3.connect(\"../data/chinook.db\")\n",
    "cursor = connexion.cursor()"
   ]
  },
  {
   "cell_type": "code",
   "execution_count": 33,
   "metadata": {},
   "outputs": [
    {
     "data": {
      "text/plain": [
       "[('Sassicaia', 4.6, 107646),\n",
       " ('Cabernet Sauvignon', 4.6, 157944),\n",
       " ('Brut Champagne', 4.6, 146377),\n",
       " ('Valbuena 5º', 4.6, 72784),\n",
       " ('Pauillac (Premier Grand Cru Classé)', 4.6, 73615),\n",
       " ('Opus One', 4.6, 77053),\n",
       " ('Tignanello', 4.5, 142513),\n",
       " ('60 Sessantanni Old Vines Primitivo di Manduria', 4.5, 94289),\n",
       " ('ARTEMIS Cabernet Sauvignon', 4.4, 81351),\n",
       " ('Amarone della Valpolicella Classico', 4.3, 77515)]"
      ]
     },
     "execution_count": 33,
     "metadata": {},
     "output_type": "execute_result"
    }
   ],
   "source": [
    "cursor.execute(\"\"\"\n",
    "    SELECT\n",
    "        name, ratings_average, ratings_count\n",
    "    FROM\n",
    "        wines\n",
    "    WHERE\n",
    "        ratings_count > 70000\n",
    "    ORDER BY\n",
    "        ratings_average DESC\n",
    "    LIMIT\n",
    "        10;\n",
    "\"\"\")\n",
    "cursor.fetchall()"
   ]
  },
  {
   "cell_type": "code",
   "execution_count": null,
   "metadata": {},
   "outputs": [],
   "source": []
  }
 ],
 "metadata": {
  "kernelspec": {
   "display_name": "vivino_env",
   "language": "python",
   "name": "python3"
  },
  "language_info": {
   "codemirror_mode": {
    "name": "ipython",
    "version": 3
   },
   "file_extension": ".py",
   "mimetype": "text/x-python",
   "name": "python",
   "nbconvert_exporter": "python",
   "pygments_lexer": "ipython3",
   "version": "3.11.4"
  },
  "orig_nbformat": 4
 },
 "nbformat": 4,
 "nbformat_minor": 2
}
