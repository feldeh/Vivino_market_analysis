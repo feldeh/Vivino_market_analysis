{
 "cells": [
  {
   "cell_type": "markdown",
   "metadata": {},
   "source": [
    "# Code to convert a .db table to a "
   ]
  },
  {
   "cell_type": "markdown",
   "metadata": {},
   "source": [
    "Create a .csv from a .db table:"
   ]
  },
  {
   "cell_type": "code",
   "execution_count": null,
   "metadata": {},
   "outputs": [],
   "source": [
    "import csv\n",
    "import sqlite3\n",
    "\n",
    "# Connect to db\n",
    "conn = sqlite3.connect('../data/<db_name>.db')\n",
    "cursor = conn.cursor()\n",
    "\n",
    "# Select & execute SQL request. Change <table_name> to the name of the table.\n",
    "cursor.execute(\"select * from <table_name>;\")\n",
    "\n",
    "# Write output to csv. Change <table_name> to the name of the table.\n",
    "with open(\"../data/<table_name>.csv\", 'w',newline='', encoding='utf-8') as csv_file: \n",
    "    csv_writer = csv.writer(csv_file)\n",
    "    csv_writer.writerow([i[0] for i in cursor.description]) \n",
    "    csv_writer.writerows(cursor)\n",
    "conn.close()"
   ]
  },
  {
   "cell_type": "markdown",
   "metadata": {},
   "source": [
    "Update a database table by replacing it with a .csv:"
   ]
  },
  {
   "cell_type": "code",
   "execution_count": null,
   "metadata": {},
   "outputs": [],
   "source": [
    "import pandas as pd\n",
    "import sqlite3\n",
    "\n",
    "# Load data from CSV into a pandas DataFrame\n",
    "csv_file = '<updated_csv.csv>'  # Replace with your CSV file path\n",
    "data_df = pd.read_csv(csv_file)\n",
    "\n",
    "# Connect to the SQLite database\n",
    "db_path = '<db.db>'  # Replace with your SQLite database path\n",
    "conn = sqlite3.connect(db_path)\n",
    "\n",
    "# Name of the table you want to replace\n",
    "table_name = '<existing_table_name>'  # Replace with the name of your table\n",
    "\n",
    "\n",
    "# Drop the existing table\n",
    "drop_query = f\"DROP TABLE {table_name};\"\n",
    "conn.execute(drop_query)\n",
    "\n",
    "# Replace with the new data\n",
    "data_df.to_sql(table_name, conn, index=False)\n",
    "\n",
    "# Commit changes and close the connection\n",
    "conn.commit()\n",
    "conn.close()\n",
    "\n",
    "print(f\"Table '{table_name}' replaced with data from '{csv_file}'.\")"
   ]
  }
 ],
 "metadata": {
  "kernelspec": {
   "display_name": "Python 3",
   "language": "python",
   "name": "python3"
  },
  "language_info": {
   "codemirror_mode": {
    "name": "ipython",
    "version": 3
   },
   "file_extension": ".py",
   "mimetype": "text/x-python",
   "name": "python",
   "nbconvert_exporter": "python",
   "pygments_lexer": "ipython3",
   "version": "3.11.5"
  },
  "orig_nbformat": 4
 },
 "nbformat": 4,
 "nbformat_minor": 2
}
