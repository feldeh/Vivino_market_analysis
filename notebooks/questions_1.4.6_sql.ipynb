{
 "cells": [
  {
   "attachments": {},
   "cell_type": "markdown",
   "metadata": {},
   "source": [
    "# Importing all the necessary packages"
   ]
  },
  {
   "cell_type": "code",
   "execution_count": 9,
   "metadata": {},
   "outputs": [],
   "source": [
    "import streamlit as st\n",
    "from sqlalchemy import create_engine\n",
    "from sqlalchemy.orm import declarative_base\n",
    "import sqlite3"
   ]
  },
  {
   "attachments": {},
   "cell_type": "markdown",
   "metadata": {},
   "source": [
    "## Using SQLite to connect to the db"
   ]
  },
  {
   "cell_type": "code",
   "execution_count": 10,
   "metadata": {},
   "outputs": [],
   "source": [
    "connexion = sqlite3.connect(\"../data/chinook.db\")\n",
    "cursor = connexion.cursor()"
   ]
  },
  {
   "attachments": {},
   "cell_type": "markdown",
   "metadata": {},
   "source": [
    "## Aswering the questions with SQL queries"
   ]
  },
  {
   "cell_type": "code",
   "execution_count": 47,
   "metadata": {},
   "outputs": [
    {
     "data": {
      "text/plain": [
       "[(11890,\n",
       "  '60 Sessantanni Old Vines Primitivo di Manduria',\n",
       "  'San Marzano 60 Sessantanni Old Vines Primitivo di Manduria 2018',\n",
       "  4.5,\n",
       "  94289,\n",
       "  24.75,\n",
       "  17),\n",
       " (11890,\n",
       "  '60 Sessantanni Old Vines Primitivo di Manduria',\n",
       "  'San Marzano 60 Sessantanni Old Vines Primitivo di Manduria 2018',\n",
       "  4.5,\n",
       "  94289,\n",
       "  24.75,\n",
       "  1),\n",
       " (11890,\n",
       "  '60 Sessantanni Old Vines Primitivo di Manduria',\n",
       "  'San Marzano 60 Sessantanni Old Vines Primitivo di Manduria 2018',\n",
       "  4.5,\n",
       "  94289,\n",
       "  24.75,\n",
       "  19),\n",
       " (6331780,\n",
       "  'Guerriero della Terra',\n",
       "  'Guerrieri Guerriero della Terra 2019',\n",
       "  4.4,\n",
       "  10185,\n",
       "  27.4,\n",
       "  1),\n",
       " (6023708,\n",
       "  'Dona Ermelinda Grande Reserva',\n",
       "  'Casa Ermelinda Freitas Dona Ermelinda Grande Reserva 2017',\n",
       "  4.4,\n",
       "  933,\n",
       "  29.95,\n",
       "  8),\n",
       " (6023708,\n",
       "  'Dona Ermelinda Grande Reserva',\n",
       "  'Casa Ermelinda Freitas Dona Ermelinda Grande Reserva 2017',\n",
       "  4.4,\n",
       "  933,\n",
       "  29.95,\n",
       "  7),\n",
       " (6023708,\n",
       "  'Dona Ermelinda Grande Reserva',\n",
       "  'Casa Ermelinda Freitas Dona Ermelinda Grande Reserva 2017',\n",
       "  4.4,\n",
       "  933,\n",
       "  29.95,\n",
       "  9),\n",
       " (6023708,\n",
       "  'Dona Ermelinda Grande Reserva',\n",
       "  'Casa Ermelinda Freitas Dona Ermelinda Grande Reserva 2017',\n",
       "  4.4,\n",
       "  933,\n",
       "  29.95,\n",
       "  8),\n",
       " (6139455,\n",
       "  'Limited Edition 10 Vendemmie',\n",
       "  'Tenuta Ulisse Limited Edition 10 Vendemmie',\n",
       "  4.5,\n",
       "  9453,\n",
       "  34.2,\n",
       "  5),\n",
       " (6139455,\n",
       "  'Limited Edition 10 Vendemmie',\n",
       "  'Tenuta Ulisse Limited Edition 10 Vendemmie',\n",
       "  4.5,\n",
       "  9453,\n",
       "  34.2,\n",
       "  15)]"
      ]
     },
     "execution_count": 47,
     "metadata": {},
     "output_type": "execute_result"
    }
   ],
   "source": [
    "# Question no 1 - top 10 wines\n",
    "\n",
    "cursor.execute(\"\"\"\n",
    "SELECT\n",
    "    w.id AS wine_id,\n",
    "    w.name AS wine_name,\n",
    "    v.name AS vintage_name,\n",
    "    w.ratings_average,\n",
    "    w.ratings_count,\n",
    "    v.price_euros,\n",
    "    vt.rank AS toplist_rank\n",
    "FROM wines w\n",
    "JOIN vintages v ON w.id = v.wine_id\n",
    "LEFT JOIN vintage_toplists_rankings vt ON v.id = vt.vintage_id\n",
    "WHERE toplist_rank >0\n",
    "ORDER BY\n",
    "    v.price_euros ASC,\n",
    "    w.ratings_average DESC,\n",
    "    w.ratings_count DESC\n",
    "LIMIT 10;\n",
    "\"\"\")\n",
    "cursor.fetchall()"
   ]
  },
  {
   "cell_type": "code",
   "execution_count": 63,
   "metadata": {},
   "outputs": [
    {
     "data": {
      "text/plain": [
       "[('Belle Epoque Brut Champagne',\n",
       "  399,\n",
       "  'apple',\n",
       "  'apple,pear,green apple,peach,apricot,white peach,yellow apple,stone fruit,melon,brioche,toast,almond,nutty,biscuit,marzipan,hazelnut,toasted almond,walnut,vanilla,caramel,smoke,coffee,citrus,lemon,grapefruit,lime,orange,lemon peel,lemon zest,lemon curd,cream,yeast,cheese,lemon curd,toasted bread,toast,almond,butter,mushroom,toffee,butter,vanilla,caramel,pastry,toffee,oak,coffee,chocolate,brioche,almond,marzipan,hazelnut,smoke,lemon curd,honey,minerals,stone,chalk,mushroom,smoke,ginger,almond,marzipan,straw,gooseberry,almond,vanilla,ginger,honeysuckle,acacia,jasmine,elderflower,pineapple,tropical,strawberry,raspberry'),\n",
       " ('Blanc des Millénaires',\n",
       "  229,\n",
       "  'brioche',\n",
       "  'brioche,toast,almond,nutty,hazelnut,biscuit,marzipan,walnut,caramel,vanilla,coffee,smoke,butter,caramel,vanilla,pastry,coffee,toffee,oak,brioche,almond,hazelnut,smoke,marzipan,cream,yeast,toast,butter,almond,toffee,honey,minerals,stone,chalk,smoke,saline,flint,almond,marzipan,citrus,lemon,grapefruit,lime,lemon peel,orange,apple,green apple,pear,peach,apricot,yellow apple,baked apple,melon,straw,almond,vanilla,pineapple,tropical,honeysuckle'),\n",
       " ('Brut Champagne',\n",
       "  2547,\n",
       "  'brioche',\n",
       "  'brioche,toast,almond,nutty,biscuit,hazelnut,toasted almond,walnut,marzipan,roasted almond,chestnut,roasted hazelnut,toasted nuts,vanilla,smoke,caramel,coffee,cinnamon,tobacco,nutmeg,espresso,mocha,fig,cream,yeast,cheese,toasted bread,lemon curd,oil,fresh bread,banana,sourdough,yogurt,toast,almond,butter,mushroom,toffee,truffle,butter,vanilla,oak,caramel,coffee,pastry,toffee,chocolate,butterscotch,tobacco,nutmeg,coconut,pie crust,espresso,creme brulee,mocha,baking spice,brioche,almond,smoke,hazelnut,marzipan,lemon curd,cinnamon,fresh bread,cocoa,leather,apple,pear,green apple,peach,apricot,stone fruit,yellow apple,melon,baked apple,white peach,nectarine,quince,bruised apple,yellow plum,asian pear,citrus,lemon,grapefruit,lime,orange,lemon zest,lemon peel,orange peel,tangerine,orange zest,lime zest,citrus zest,marmalade,meyer lemon,blood orange,mandarin orange,lemon curd,honey,minerals,smoke,stone,mushroom,flint,chalk,earthy,ginger,saline,salt,truffle,gun smoke,slate,leather,cocoa,honeycomb,rubber,petroleum,almond,marzipan,savory,tobacco,mocha,straw,hay,grass,gooseberry,chard,rhubarb,almond,savory,cinnamon,mint,licorice,white pepper,pepper,savory,anise,vanilla,ginger,nutmeg,pineapple,tropical,mango,guava,passion fruit,lychee,papaya,banana,honeysuckle,jasmine,perfume,elderflower,acacia,orange blossom,dried flowers,savory,strawberry,raspberry,cherry,red fruit,jam,dried apricot,raisin,dried fruit,fig,jam,plum,jam,cassis'),\n",
       " ('Comtes de Champagne Blanc de Blancs',\n",
       "  713,\n",
       "  'brioche',\n",
       "  'brioche,toast,nutty,almond,biscuit,hazelnut,marzipan,walnut,roasted almond,toasted almond,vanilla,smoke,caramel,coffee,cream,yeast,cheese,toasted bread,lemon curd,oil,toast,butter,almond,toffee,mushroom,butter,oak,vanilla,caramel,pastry,coffee,toffee,butterscotch,chocolate,brioche,almond,smoke,hazelnut,marzipan,lemon curd,citrus,lemon,grapefruit,lime,orange,lemon zest,orange peel,lemon peel,tangerine,citrus zest,marmalade,lemon curd,apple,pear,green apple,peach,apricot,yellow apple,melon,white peach,stone fruit,quince,nectarine,baked apple,honey,minerals,smoke,chalk,stone,flint,salt,mushroom,saline,earthy,ginger,almond,marzipan,savory,straw,gooseberry,almond,savory,savory,vanilla,ginger,pineapple,tropical,mango,honeysuckle,acacia,perfume,savory,raspberry,strawberry,raisin'),\n",
       " ('Cristal Brut Champagne (Millésimé)',\n",
       "  851,\n",
       "  'brioche',\n",
       "  'brioche,toast,almond,nutty,hazelnut,biscuit,marzipan,toasted almond,walnut,toasted nuts,roasted almond,vanilla,caramel,smoke,coffee,cinnamon,apple,pear,green apple,peach,apricot,yellow apple,white peach,baked apple,melon,quince,stone fruit,nectarine,bruised apple,citrus,lemon,grapefruit,lime,orange,lemon zest,orange peel,tangerine,lemon peel,marmalade,lemon curd,butter,vanilla,caramel,oak,pastry,chocolate,coffee,toffee,butterscotch,coconut,brioche,almond,hazelnut,smoke,marzipan,lemon curd,cinnamon,cream,yeast,cheese,lemon curd,toasted bread,oil,toast,almond,butter,mushroom,toffee,truffle,honey,minerals,stone,chalk,smoke,ginger,mushroom,saline,earthy,flint,salt,truffle,almond,marzipan,savory,straw,hay,gooseberry,almond,savory,cinnamon,savory,vanilla,ginger,tropical,pineapple,mango,honeysuckle,acacia,perfume,elderflower,orange blossom,savory,strawberry,raspberry,cherry,dried apricot,raisin,plum'),\n",
       " ('Cuvée des Enchanteleurs Brut Champagne',\n",
       "  46,\n",
       "  'brioche',\n",
       "  'brioche,toast,nutty,almond,hazelnut,caramel,coffee,butter,caramel,coffee,brioche,almond,hazelnut,cream,yeast,butter,toast,mushroom,almond,honey,minerals,mushroom,almond,apple,peach,yellow apple,green apple,citrus,lemon,lime,almond,dried apricot'),\n",
       " ('Dom Ruinart Blanc de Blancs Brut Champagne',\n",
       "  267,\n",
       "  'brioche',\n",
       "  'brioche,toast,almond,nutty,biscuit,hazelnut,vanilla,caramel,smoke,coffee,cream,yeast,cheese,toast,butter,almond,mushroom,butter,vanilla,caramel,oak,coffee,pastry,brioche,almond,hazelnut,smoke,apple,pear,green apple,apricot,peach,melon,white peach,yellow apple,nectarine,citrus,lemon,lime,grapefruit,lemon zest,orange,honey,minerals,stone,smoke,chalk,earthy,mushroom,almond,straw,almond,vanilla,strawberry,tropical,pineapple,acacia'),\n",
       " ('Grande Cuvée',\n",
       "  1124,\n",
       "  'brioche',\n",
       "  'brioche,toast,almond,hazelnut,nutty,marzipan,biscuit,toasted almond,walnut,roasted almond,toasted nuts,vanilla,caramel,smoke,coffee,cinnamon,butter,oak,vanilla,caramel,pastry,coffee,toffee,butterscotch,chocolate,brioche,almond,hazelnut,marzipan,smoke,lemon curd,cinnamon,fresh bread,cream,yeast,toasted bread,cheese,lemon curd,oil,fresh bread,yogurt,toast,almond,butter,mushroom,toffee,truffle,citrus,lemon,grapefruit,lime,orange,lemon zest,orange peel,lemon peel,orange zest,tangerine,lime zest,lemon curd,honey,minerals,smoke,ginger,stone,chalk,mushroom,earthy,salt,saline,truffle,flint,almond,marzipan,savory,apple,green apple,pear,apricot,peach,yellow apple,baked apple,quince,stone fruit,melon,white peach,bruised apple,yellow plum,straw,gooseberry,grass,chard,almond,savory,gingerbread,savory,cinnamon,vanilla,ginger,tropical,pineapple,mango,honeysuckle,perfume,elderflower,savory,dried fruit,dried apricot,raisin,cherry,raspberry,strawberry,plum'),\n",
       " ('La Grande Année Brut Champagne',\n",
       "  655,\n",
       "  'brioche',\n",
       "  'brioche,toast,almond,hazelnut,nutty,biscuit,walnut,marzipan,toasted almond,roasted almond,vanilla,caramel,smoke,coffee,cinnamon,oak,butter,vanilla,caramel,pastry,toffee,coffee,butterscotch,chocolate,brioche,almond,hazelnut,smoke,marzipan,lemon curd,cinnamon,leather,cream,yeast,cheese,toasted bread,lemon curd,toast,almond,butter,mushroom,toffee,truffle,apple,pear,peach,green apple,apricot,yellow apple,baked apple,stone fruit,quince,bruised apple,melon,yellow plum,nectarine,white peach,honey,minerals,stone,mushroom,smoke,chalk,ginger,earthy,saline,truffle,salt,leather,honeycomb,almond,marzipan,savory,citrus,lemon,grapefruit,orange,lime,lemon zest,orange peel,tangerine,lemon peel,marmalade,lemon curd,straw,chard,almond,savory,cinnamon,gingerbread,savory,vanilla,ginger,strawberry,raspberry,cherry,red fruit,honeysuckle,acacia,savory,tropical,pineapple,mango,raisin,dried fruit,dried apricot,plum,blackcurrant'),\n",
       " ('La Grande Dame Brut Champagne',\n",
       "  415,\n",
       "  'brioche',\n",
       "  'brioche,toast,almond,nutty,hazelnut,biscuit,marzipan,toasted almond,roasted almond,caramel,vanilla,smoke,coffee,cinnamon,butter,caramel,vanilla,oak,pastry,coffee,chocolate,brioche,almond,hazelnut,marzipan,smoke,lemon curd,cinnamon,apple,pear,apricot,green apple,peach,baked apple,stone fruit,yellow apple,quince,melon,white peach,cream,yeast,cheese,lemon curd,toast,almond,butter,mushroom,truffle,honey,minerals,stone,chalk,smoke,mushroom,earthy,truffle,saline,almond,marzipan,citrus,lemon,grapefruit,lime,orange,lemon zest,orange peel,lemon peel,lemon curd,straw,hay,almond,cinnamon,vanilla,strawberry,raspberry,cherry,red fruit,jasmine,honeysuckle,pineapple,tropical,dried apricot,dried fruit'),\n",
       " ('Le Mesnil Blanc de Blancs (Cuvée S) Brut Champagne',\n",
       "  240,\n",
       "  'citrus',\n",
       "  'citrus,lemon,grapefruit,lime,lemon zest,lemon peel,orange,lemon curd,minerals,honey,stone,chalk,mushroom,saline,ginger,smoke,flint,salt,almond,savory,brioche,toast,almond,nutty,biscuit,hazelnut,walnut,vanilla,caramel,smoke,coffee,butter,vanilla,caramel,oak,pastry,coffee,brioche,almond,hazelnut,lemon curd,smoke,cream,yeast,lemon curd,cheese,toast,almond,butter,mushroom,apple,green apple,pear,peach,apricot,baked apple,stone fruit,white peach,straw,almond,savory,savory,vanilla,ginger,acacia,honeysuckle,savory,pineapple'),\n",
       " ('P2 Plénitude Brut Champagne',\n",
       "  223,\n",
       "  'brioche',\n",
       "  'brioche,toast,almond,nutty,hazelnut,biscuit,smoke,caramel,vanilla,coffee,butter,caramel,vanilla,oak,pastry,toffee,coffee,brioche,almond,smoke,hazelnut,cream,yeast,cheese,toast,butter,almond,mushroom,toffee,honey,minerals,smoke,stone,mushroom,flint,saline,chalk,almond,apple,peach,pear,apricot,green apple,stone fruit,melon,citrus,lemon,grapefruit,lime,orange,lemon zest,straw,almond,vanilla,honeysuckle,acacia,tropical,pineapple,dried apricot'),\n",
       " ('R.D Extra Brut Champagne (Récemment Dégorgé)',\n",
       "  266,\n",
       "  'brioche',\n",
       "  'brioche,toast,almond,hazelnut,nutty,biscuit,marzipan,walnut,caramel,vanilla,smoke,coffee,cinnamon,caramel,butter,oak,vanilla,toffee,coffee,pastry,chocolate,brioche,almond,hazelnut,smoke,marzipan,cinnamon,cream,yeast,cheese,toast,butter,almond,mushroom,toffee,honey,minerals,smoke,mushroom,stone,chalk,ginger,almond,marzipan,apple,peach,pear,apricot,green apple,baked apple,quince,yellow apple,citrus,lemon,lime,orange,grapefruit,lemon zest,orange peel,straw,almond,cinnamon,vanilla,ginger,dried apricot,raisin,tropical,pineapple'),\n",
       " ('Sauternes',\n",
       "  1977,\n",
       "  'honey',\n",
       "  'honey,minerals,stone,ginger,honeycomb,mushroom,wax,smoke,beeswax,earthy,petroleum,truffle,almond,marzipan,apricot,peach,pear,apple,stone fruit,quince,melon,nectarine,apricot jam,white peach,green apple,yellow apple,baked apple,caramel,vanilla,oak,toffee,butter,coconut,butterscotch,chocolate,creme brulee,coffee,nutmeg,clove,baking spice,cedar,almond,marzipan,hazelnut,cinnamon,smoke,brioche,lemon curd,brown sugar,burnt caramel,almond,nutty,marzipan,hazelnut,toast,brioche,walnut,maple syrup,molasses,dried fig,brown sugar,burnt caramel,burnt sugar,roasted almond,caramel,vanilla,cinnamon,fig,smoke,coffee,nutmeg,clove,cedar,marmalade,orange,citrus,orange peel,lemon,lime,tangerine,orange zest,grapefruit,orange rind,lemon zest,lemon curd,cream,cheese,oil,banana,lemon curd,almond,toffee,butter,mushroom,toast,truffle,pineapple,tropical,mango,lychee,passion fruit,papaya,guava,banana,cinnamon,white pepper,mint,pepper,vanilla,ginger,nutmeg,clove,dried apricot,raisin,dried fruit,fig,prune,golden raisin,jam,honeysuckle,acacia,orange blossom,jasmine,perfume,elderflower,chamomile,straw,almond,jam,plum,prune,strawberry,raspberry,jam,apricot,peach,honey'),\n",
       " ('Sir Winston Churchill Brut Champagne',\n",
       "  525,\n",
       "  'brioche',\n",
       "  'brioche,toast,almond,nutty,biscuit,hazelnut,marzipan,toasted almond,roasted almond,caramel,vanilla,smoke,cinnamon,coffee,butter,caramel,vanilla,oak,pastry,toffee,butterscotch,coffee,chocolate,brioche,almond,hazelnut,smoke,lemon curd,marzipan,cinnamon,cream,yeast,lemon curd,cheese,toast,almond,butter,mushroom,toffee,apple,green apple,apricot,pear,peach,yellow apple,baked apple,stone fruit,quince,bruised apple,white peach,melon,citrus,lemon,grapefruit,lime,orange,lemon zest,orange peel,lemon peel,lemon curd,honey,minerals,stone,mushroom,smoke,ginger,chalk,earthy,saline,flint,almond,marzipan,straw,grass,almond,cinnamon,vanilla,ginger,strawberry,raspberry,tropical,pineapple,dried apricot,dried fruit'),\n",
       " (\"Trebbiano d'Abruzzo\",\n",
       "  102,\n",
       "  'minerals',\n",
       "  'minerals,honey,smoke,stone,saline,earthy,wax,flint,salt,almond,savory,butter,oak,vanilla,coffee,caramel,smoke,almond,apple,pear,peach,apricot,green apple,melon,stone fruit,citrus,lemon,lime,grapefruit,orange,almond,nutty,toast,smoke,vanilla,coffee,caramel,cream,oil,butter,almond,toast,straw,hay,almond,savory,savory,vanilla,savory,pineapple'),\n",
       " ('Vintage',\n",
       "  505,\n",
       "  'brioche',\n",
       "  'brioche,toast,almond,nutty,hazelnut,biscuit,marzipan,toasted almond,walnut,toasted nuts,brown sugar,roasted almond,roasted hazelnut,caramel,vanilla,smoke,coffee,cinnamon,fig,butter,caramel,oak,vanilla,coffee,pastry,toffee,chocolate,butterscotch,brioche,almond,hazelnut,smoke,marzipan,cinnamon,lemon curd,brown sugar,cocoa,cream,yeast,cheese,oil,lemon curd,toast,almond,butter,mushroom,toffee,truffle,honey,minerals,smoke,stone,ginger,mushroom,truffle,earthy,chalk,saline,salt,cocoa,flint,almond,marzipan,savory,apple,apricot,pear,green apple,peach,baked apple,yellow apple,melon,bruised apple,stone fruit,quince,citrus,lemon,grapefruit,orange,lime,orange peel,lemon zest,lemon peel,marmalade,tangerine,lemon curd,straw,chard,almond,savory,cinnamon,savory,gingerbread,vanilla,ginger,pineapple,tropical,perfume,honeysuckle,savory,dried fruit,dried apricot,raisin,fig,cherry,plum')]"
      ]
     },
     "execution_count": 63,
     "metadata": {},
     "output_type": "execute_result"
    }
   ],
   "source": [
    "# Question no 4 - user's cluster regarding keywords\n",
    "\n",
    "cursor.execute(\"\"\"\n",
    "SELECT\n",
    "    wines.name AS wine_name,\n",
    "    keywords_wine.count AS keyword_count,\n",
    "    keywords.name AS keyword_name,\n",
    "    group_concat(keywords.name) AS keyword_list\n",
    "FROM wines\n",
    "JOIN keywords_wine ON keywords_wine.wine_id = wines.id\n",
    "JOIN keywords  ON keywords.id = keywords_wine.keyword_id\n",
    "WHERE \n",
    "    keyword_count > 10\n",
    "    --AND keyword_list LIKE '%coffee%toast%green apple%cream%citrus%'\n",
    "GROUP BY wine_name\n",
    "HAVING \n",
    "    keyword_list LIKE '%coffee%'\n",
    "    AND    keyword_list LIKE '%toast%'\n",
    "    AND    keyword_list LIKE '%green apple%'\n",
    "    AND    keyword_list LIKE '%cream%'\n",
    "    AND    keyword_list LIKE '%citrus%';\n",
    "    \n",
    "    \n",
    "\"\"\")\n",
    "cursor.fetchall()"
   ]
  },
  {
   "cell_type": "code",
   "execution_count": 65,
   "metadata": {},
   "outputs": [
    {
     "data": {
      "text/plain": [
       "[('Cabernet Sauvignon', 2, 9621012),\n",
       " ('Merlot', 10, 6233909),\n",
       " ('Chardonnay', 5, 3625248)]"
      ]
     },
     "execution_count": 65,
     "metadata": {},
     "output_type": "execute_result"
    }
   ],
   "source": [
    "# Question 6 - Top 3 grapes\n",
    "\n",
    "cursor.execute(\"\"\"SELECT \n",
    "    grapes.name AS grape_name,\n",
    "    grapes.id AS grapes_id,\n",
    "    sum(most_used_grapes_per_country.wines_count) AS global_wine_count\n",
    "FROM grapes\n",
    "JOIN most_used_grapes_per_country ON most_used_grapes_per_country.grape_id = grapes_id\n",
    "GROUP BY grape_id\n",
    "ORDER BY global_wine_count DESC\n",
    "LIMIT\n",
    "    3;\"\"\")\n",
    "\n",
    "cursor.fetchall()"
   ]
  }
 ],
 "metadata": {
  "kernelspec": {
   "display_name": "vivino_env",
   "language": "python",
   "name": "python3"
  },
  "language_info": {
   "codemirror_mode": {
    "name": "ipython",
    "version": 3
   },
   "file_extension": ".py",
   "mimetype": "text/x-python",
   "name": "python",
   "nbconvert_exporter": "python",
   "pygments_lexer": "ipython3",
   "version": "3.11.4"
  },
  "orig_nbformat": 4
 },
 "nbformat": 4,
 "nbformat_minor": 2
}
